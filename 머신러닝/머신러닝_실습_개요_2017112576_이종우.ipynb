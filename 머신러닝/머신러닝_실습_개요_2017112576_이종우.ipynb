{
 "cells": [
  {
   "cell_type": "markdown",
   "metadata": {
    "id": "-AQ18yPPVyka"
   },
   "source": [
    "## Colab이란\n",
    "* 클라우드 기반의 주피터 노트북 개발환경\n",
    "* 로컬에 파이썬 환경 없이도 사용 가능\n",
    "* GPU 무료 사용 가능\n",
    "* 기본적으로 여러 최신 패키지가 내장되어 있음"
   ]
  },
  {
   "cell_type": "code",
   "execution_count": 1,
   "metadata": {
    "colab": {
     "base_uri": "https://localhost:8080/"
    },
    "id": "7-rdigSAWz_-",
    "outputId": "4b498732-eb17-4fb8-c84e-27896c6f09f7"
   },
   "outputs": [
    {
     "name": "stdout",
     "output_type": "stream",
     "text": [
      "Mounted at /content/gdrive\n"
     ]
    }
   ],
   "source": [
    "# 드라이브 마운트 하기\n",
    "\n",
    "from google.colab import drive\n",
    "\n",
    "drive.mount('/content/gdrive')"
   ]
  },
  {
   "cell_type": "code",
   "execution_count": 2,
   "metadata": {
    "colab": {
     "base_uri": "https://localhost:8080/"
    },
    "id": "rm8dKXz7R7RE",
    "outputId": "12f730ff-57ec-459e-a6e9-98e4eabc562f"
   },
   "outputs": [
    {
     "name": "stdout",
     "output_type": "stream",
     "text": [
      "/content\n",
      "1.3.5\n",
      "1.21.5\n",
      "3.7.12 (default, Jan 15 2022, 18:48:18) \n",
      "[GCC 7.5.0]\n",
      "Python 3.7.12\n"
     ]
    }
   ],
   "source": [
    "# 자주 사용할 패키지 version 확인\n",
    "\n",
    "import pandas as pd\n",
    "import numpy as np\n",
    "import matplotlib.pyplot as plt\n",
    "import os\n",
    "import sys\n",
    "\n",
    "# 현재 working directory\n",
    "print(os.getcwd())\n",
    "\n",
    "# pandas version\n",
    "print(pd.__version__)\n",
    "\n",
    "# numpy version\n",
    "print(np.__version__)\n",
    "\n",
    "# python version\n",
    "print(sys.version)\n",
    "\n",
    "# 다음과 같이도 확인가능\n",
    "\n",
    "!python --version"
   ]
  },
  {
   "cell_type": "markdown",
   "metadata": {
    "id": "r7tJA6_qXWJo"
   },
   "source": [
    "### 구글 드라이브 사용"
   ]
  },
  {
   "cell_type": "code",
   "execution_count": 3,
   "metadata": {
    "id": "c1j8eXzHXVnK"
   },
   "outputs": [],
   "source": [
    "# 코드 작성하여 텍스트 파일로 변환 후 구글 드라이브에 저장 가능\n",
    "\n",
    "path = '/gdrive/MyDrive/test.txt'\n",
    "\n",
    "f=open(os.getcwd() + path,'w')\n",
    "f.write(\"안녕하세요\\n\")\n",
    "f.write(\"만나서 반갑습니다.\")\n",
    "f.close()"
   ]
  },
  {
   "cell_type": "code",
   "execution_count": 4,
   "metadata": {
    "colab": {
     "base_uri": "https://localhost:8080/"
    },
    "id": "qjJHhQoRXku6",
    "outputId": "acd78341-7350-42e8-a5de-e341e75c594f"
   },
   "outputs": [
    {
     "name": "stdout",
     "output_type": "stream",
     "text": [
      "안녕하세요\n",
      "만나서 반갑습니다.\n"
     ]
    }
   ],
   "source": [
    "# 폴더 내에 있는 파일 로드하여 읽는 것도 가능함\n",
    "\n",
    "f=open(os.getcwd() + path,'r')\n",
    "data=f.read()\n",
    "print(data)\n",
    "f.close()"
   ]
  },
  {
   "cell_type": "markdown",
   "metadata": {
    "id": "xRb3e9p4XrCR"
   },
   "source": [
    "### 기본 파이썬 입출력"
   ]
  },
  {
   "cell_type": "code",
   "execution_count": 5,
   "metadata": {
    "colab": {
     "base_uri": "https://localhost:8080/"
    },
    "id": "eqPZsvBuXp-l",
    "outputId": "bd02d925-cb5b-4ecd-bedf-e387370f5d09"
   },
   "outputs": [
    {
     "name": "stdout",
     "output_type": "stream",
     "text": [
      "이름을 입력하세요: 정은재\n",
      "학번을 입력하세요: 123456789\n",
      "제 이름은 정은재 이며, 학번은 123456789 입니다!\n"
     ]
    }
   ],
   "source": [
    "# 입출력\n",
    "\n",
    "name=input('이름을 입력하세요: ')\n",
    "\n",
    "id=input('학번을 입력하세요: ')\n",
    "\n",
    "print('제 이름은', name, '이며, 학번은', id, '입니다!')"
   ]
  },
  {
   "cell_type": "code",
   "execution_count": 9,
   "metadata": {
    "colab": {
     "base_uri": "https://localhost:8080/"
    },
    "id": "2zAwJ0sBX4sP",
    "outputId": "04e607c9-bee4-4af7-b8fc-3ebcfe10befd"
   },
   "outputs": [
    {
     "name": "stdout",
     "output_type": "stream",
     "text": [
      "물은 100 도에서 끓는다\n"
     ]
    }
   ],
   "source": [
    "# 출력 포맷팅 - % formatting\n",
    "\n",
    "temp = 100\n",
    "\n",
    "print('물은 %d 도에서 끓는다' % (temp))"
   ]
  },
  {
   "cell_type": "code",
   "execution_count": 10,
   "metadata": {
    "colab": {
     "base_uri": "https://localhost:8080/"
    },
    "id": "HRz67fL2Ybod",
    "outputId": "554dc16b-05c3-4d91-d5d5-4ea018eaf418"
   },
   "outputs": [
    {
     "name": "stdout",
     "output_type": "stream",
     "text": [
      "제 나이는 20 입니다\n"
     ]
    }
   ],
   "source": [
    "# 출력 포맷팅 - String formatting\n",
    "\n",
    "age = 20\n",
    "\n",
    "print('제 나이는 {} 입니다'.format(age))"
   ]
  },
  {
   "cell_type": "code",
   "execution_count": 11,
   "metadata": {
    "colab": {
     "base_uri": "https://localhost:8080/"
    },
    "id": "R-dU9JFOZDBo",
    "outputId": "243d5c0f-4dc7-4b54-bf74-ebb9c31f3e6d"
   },
   "outputs": [
    {
     "name": "stdout",
     "output_type": "stream",
     "text": [
      "반지름이 20인 원의 둘레는 125.60000000000001\n"
     ]
    }
   ],
   "source": [
    "# 출력 포맷팅 - f-string\n",
    "\n",
    "pi = 3.14\n",
    "r = 20\n",
    "\n",
    "print(f'반지름이 {r}인 원의 둘레는 {2 * pi * r }')"
   ]
  },
  {
   "cell_type": "code",
   "execution_count": 12,
   "metadata": {
    "colab": {
     "base_uri": "https://localhost:8080/"
    },
    "id": "ITgSlmW-ZUTn",
    "outputId": "3eb34a9a-e2be-4f21-be0f-8e5a7a7e84e4"
   },
   "outputs": [
    {
     "name": "stdout",
     "output_type": "stream",
     "text": [
      "반지름이 20인 원의 둘레는 125.60\n"
     ]
    }
   ],
   "source": [
    "# 숫자 출력\n",
    "\n",
    "print(f'반지름이 {r}인 원의 둘레는 {2 * pi * r:.2f}')"
   ]
  },
  {
   "cell_type": "markdown",
   "metadata": {
    "id": "pF9QydLnbUDX"
   },
   "source": [
    "### 실습 1"
   ]
  },
  {
   "cell_type": "code",
   "execution_count": 13,
   "metadata": {
    "id": "k5sSD-WwbSZ3"
   },
   "outputs": [],
   "source": [
    "# 본인의 학번, 이름, 나이를 f-string 방식을 이용하여 출력하세요"
   ]
  },
  {
   "cell_type": "code",
   "execution_count": 4,
   "metadata": {},
   "outputs": [
    {
     "name": "stdout",
     "output_type": "stream",
     "text": [
      "2017112576_이종우_26\n"
     ]
    }
   ],
   "source": [
    "num = 2017112576\n",
    "name = \"이종우\"\n",
    "age = 26\n",
    "print(f\"{num}_{name}_{age}\")"
   ]
  },
  {
   "cell_type": "markdown",
   "metadata": {
    "id": "F0jkdUqiKHQv"
   },
   "source": [
    "파일명 **'머신러닝_실습_개요_학번_이름'**으로 **.ipynb** 파일 다운로드하여 이클래스에 제출해 주세요"
   ]
  }
 ],
 "metadata": {
  "accelerator": "GPU",
  "colab": {
   "collapsed_sections": [],
   "name": "머신러닝_실습_개요.ipynb",
   "provenance": []
  },
  "kernelspec": {
   "display_name": "Python 3 (ipykernel)",
   "language": "python",
   "name": "python3"
  },
  "language_info": {
   "codemirror_mode": {
    "name": "ipython",
    "version": 3
   },
   "file_extension": ".py",
   "mimetype": "text/x-python",
   "name": "python",
   "nbconvert_exporter": "python",
   "pygments_lexer": "ipython3",
   "version": "3.9.7"
  }
 },
 "nbformat": 4,
 "nbformat_minor": 1
}
