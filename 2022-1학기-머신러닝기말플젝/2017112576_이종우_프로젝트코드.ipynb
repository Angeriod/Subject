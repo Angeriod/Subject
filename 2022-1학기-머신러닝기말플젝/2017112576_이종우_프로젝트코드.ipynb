{
 "cells": [
  {
   "cell_type": "code",
   "execution_count": 1,
   "id": "4080e24e",
   "metadata": {},
   "outputs": [],
   "source": [
    "import numpy as np\n",
    "import pandas as pd\n",
    "\n",
    "from sklearn.metrics import accuracy_score, recall_score, precision_score, f1_score\n",
    "from sklearn.linear_model import LogisticRegression, RidgeClassifier\n",
    "from sklearn.svm import SVC, LinearSVC\n",
    "from sklearn.ensemble import RandomForestClassifier,AdaBoostClassifier, ExtraTreesClassifier, BaggingClassifier, GradientBoostingClassifier\n",
    "from sklearn.neighbors import KNeighborsClassifier\n",
    "from sklearn.naive_bayes import GaussianNB\n",
    "from sklearn.linear_model import Perceptron\n",
    "from sklearn.linear_model import SGDClassifier\n",
    "from sklearn.tree import DecisionTreeClassifier\n",
    "from sklearn.metrics import classification_report\n",
    "from xgboost import XGBClassifier\n",
    "from lightgbm import LGBMClassifier\n",
    "from sklearn.neural_network import MLPClassifier"
   ]
  },
  {
   "cell_type": "code",
   "execution_count": 2,
   "id": "6a9704e7",
   "metadata": {},
   "outputs": [],
   "source": [
    "df=pd.read_csv('./Train.csv')\n",
    "df_test=pd.read_csv('./Test.csv')\n",
    "\n",
    "df['target']=df['target'].apply(lambda x:0 if x=='negative' else 1 )\n",
    "df=df.drop(['Index'],axis=1)\n",
    "\n",
    "df_test=df_test.drop(['Index'],axis=1)"
   ]
  },
  {
   "cell_type": "code",
   "execution_count": 3,
   "id": "a0212851",
   "metadata": {},
   "outputs": [],
   "source": [
    "y_origin=df['target']\n",
    "x_origin=df.drop(['target'],axis=1)"
   ]
  },
  {
   "cell_type": "code",
   "execution_count": 4,
   "id": "36e1bca9",
   "metadata": {},
   "outputs": [],
   "source": [
    "from sklearn.preprocessing import StandardScaler\n",
    "\n",
    "scaler=StandardScaler()\n",
    "std_df_train = scaler.fit_transform(x_origin)\n",
    "std_df_test2 = scaler.transform(df_test)\n",
    "\n",
    "std_df_train = pd.DataFrame(std_df_train, index=x_origin.index, columns=x_origin.columns)\n",
    "std_df_test2 = pd.DataFrame(std_df_test2, index=df_test.index, columns=df_test.columns)"
   ]
  },
  {
   "cell_type": "code",
   "execution_count": 5,
   "id": "51993330",
   "metadata": {},
   "outputs": [],
   "source": [
    "from imblearn.combine import SMOTETomek\n",
    "from imblearn.under_sampling import TomekLinks#오버샘플링\n",
    "\n",
    "smoteto = SMOTETomek(tomek=TomekLinks(sampling_strategy='majority'),random_state=112)\n",
    "X_train_over, Y_train_over = smoteto.fit_sample(std_df_train, y_origin)"
   ]
  },
  {
   "cell_type": "code",
   "execution_count": 6,
   "id": "1444344d",
   "metadata": {},
   "outputs": [],
   "source": [
    "from sklearn.decomposition import PCA\n",
    "\n",
    "pca = PCA(n_components=240,random_state=112)\n",
    "pca_train = pca.fit_transform(X_train_over)\n",
    "pca_train = pd.DataFrame(pca_train, index=X_train_over.index,columns=[f\"pca{num+1}\" for num in range(0,240)])\n",
    "pca_test2= pca.transform(std_df_test2)\n",
    "pca_test2 = pd.DataFrame(pca_test2, index=df_test.index,columns=[f\"pca{num+1}\" for num in range(0,240)])"
   ]
  },
  {
   "cell_type": "code",
   "execution_count": 7,
   "id": "10224fa8",
   "metadata": {},
   "outputs": [],
   "source": [
    "from sklearn.preprocessing import MinMaxScaler \n",
    "\n",
    "scaler = MinMaxScaler()\n",
    "X_train_scaled = scaler.fit_transform(pca_train) \n",
    "X_test2_scaled= scaler.transform(pca_test2)"
   ]
  },
  {
   "cell_type": "code",
   "execution_count": 8,
   "id": "99f80a73",
   "metadata": {},
   "outputs": [],
   "source": [
    "X_train_=pd.DataFrame(X_train_scaled,columns=pca_train.columns)\n",
    "X_test2=pd.DataFrame(X_test2_scaled,columns=pca_test2.columns)"
   ]
  },
  {
   "cell_type": "code",
   "execution_count": 9,
   "id": "0c10ade7",
   "metadata": {},
   "outputs": [],
   "source": [
    "svc = SVC(kernel='rbf',C = 0.7, gamma = 0.5, probability=True)"
   ]
  },
  {
   "cell_type": "code",
   "execution_count": 10,
   "id": "a876b9ce",
   "metadata": {},
   "outputs": [],
   "source": [
    "knn = KNeighborsClassifier(n_neighbors = 2,weights='distance',n_jobs=-1)"
   ]
  },
  {
   "cell_type": "code",
   "execution_count": 11,
   "id": "91480c36",
   "metadata": {},
   "outputs": [],
   "source": [
    "poly_svc =SVC(kernel='poly',degree=20,C = 0.4, gamma = 0.2,max_iter=1000,probability=True)"
   ]
  },
  {
   "cell_type": "code",
   "execution_count": 12,
   "id": "657bd4d8",
   "metadata": {},
   "outputs": [],
   "source": [
    "sgd = SGDClassifier(loss='log', max_iter=100000,random_state=100) "
   ]
  },
  {
   "cell_type": "code",
   "execution_count": 13,
   "id": "813707c5",
   "metadata": {},
   "outputs": [],
   "source": [
    "lgbm=LGBMClassifier(n_estimators=1000,max_depth=4,num_leaves=10,n_jobs=1,application='binary',objective='binary')"
   ]
  },
  {
   "cell_type": "code",
   "execution_count": 14,
   "id": "b0d99533",
   "metadata": {},
   "outputs": [],
   "source": [
    "Xgb=XGBClassifier(objective='binary:logistic',colsample_bytree= 0.8,learning_rate= .1,max_depth= 5,min_child_weight=2,reg_lambda=10,reg_alpha=10,gamma=0.2,n_estimator=1000)"
   ]
  },
  {
   "cell_type": "code",
   "execution_count": 15,
   "id": "f4e0604c",
   "metadata": {},
   "outputs": [],
   "source": [
    "models = [\n",
    "    ('svm', svc),\n",
    "    ('poly',poly_svc)\n",
    "    ,('Xgb',Xgb)\n",
    "    ,('knn', knn)\n",
    "    ,('lgbm',lgbm) \n",
    "    ,('sgd', sgd)\n",
    "]\n",
    "\n",
    "models2 = [\n",
    "    ('svm', svc),\n",
    "    ('poly',poly_svc)\n",
    "    ,('Xgb',Xgb)\n",
    "    ,('knn', knn)\n",
    "    ,('lgbm',lgbm) \n",
    "    ,('sgd', sgd)\n",
    "]\n",
    "\n",
    "models3 = [\n",
    "    ('sgd1', sgd),\n",
    "    ('svm', svc)\n",
    "    ,('Xgb',Xgb)\n",
    "    ,('lgbm',lgbm)\n",
    "]\n",
    "\n"
   ]
  },
  {
   "cell_type": "code",
   "execution_count": 16,
   "id": "2b82e912",
   "metadata": {},
   "outputs": [],
   "source": [
    "from sklearn.ensemble import VotingClassifier"
   ]
  },
  {
   "cell_type": "code",
   "execution_count": 17,
   "id": "24064baa",
   "metadata": {},
   "outputs": [
    {
     "name": "stderr",
     "output_type": "stream",
     "text": [
      "C:\\Users\\2469l\\anaconda3\\lib\\site-packages\\sklearn\\svm\\_base.py:284: ConvergenceWarning: Solver terminated early (max_iter=1000).  Consider pre-processing your data with StandardScaler or MinMaxScaler.\n",
      "  warnings.warn(\n",
      "C:\\Users\\2469l\\anaconda3\\lib\\site-packages\\xgboost\\sklearn.py:1224: UserWarning: The use of label encoder in XGBClassifier is deprecated and will be removed in a future release. To remove this warning, do the following: 1) Pass option use_label_encoder=False when constructing XGBClassifier object; and 2) Encode your labels (y) as integers starting with 0, i.e. 0, 1, 2, ..., [num_class - 1].\n",
      "  warnings.warn(label_encoder_deprecation_msg, UserWarning)\n"
     ]
    },
    {
     "name": "stdout",
     "output_type": "stream",
     "text": [
      "[03:15:43] WARNING: ..\\src\\learner.cc:576: \n",
      "Parameters: { \"n_estimator\" } might not be used.\n",
      "\n",
      "  This could be a false alarm, with some parameters getting used by language bindings but\n",
      "  then being mistakenly passed down to XGBoost core, or some parameter actually being used\n",
      "  but getting flagged wrongly here. Please open an issue if you find any such cases.\n",
      "\n",
      "\n",
      "[03:15:43] WARNING: ..\\src\\learner.cc:1115: Starting in XGBoost 1.3.0, the default evaluation metric used with the objective 'binary:logistic' was changed from 'error' to 'logloss'. Explicitly set eval_metric if you'd like to restore the old behavior.\n"
     ]
    }
   ],
   "source": [
    "soft_vote  = VotingClassifier(models, voting='soft')\n",
    "soft_vote.fit(X_train_, Y_train_over);"
   ]
  },
  {
   "cell_type": "code",
   "execution_count": 18,
   "id": "e069601d",
   "metadata": {},
   "outputs": [
    {
     "name": "stderr",
     "output_type": "stream",
     "text": [
      "C:\\Users\\2469l\\anaconda3\\lib\\site-packages\\sklearn\\svm\\_base.py:284: ConvergenceWarning: Solver terminated early (max_iter=1000).  Consider pre-processing your data with StandardScaler or MinMaxScaler.\n",
      "  warnings.warn(\n",
      "C:\\Users\\2469l\\anaconda3\\lib\\site-packages\\xgboost\\sklearn.py:1224: UserWarning: The use of label encoder in XGBClassifier is deprecated and will be removed in a future release. To remove this warning, do the following: 1) Pass option use_label_encoder=False when constructing XGBClassifier object; and 2) Encode your labels (y) as integers starting with 0, i.e. 0, 1, 2, ..., [num_class - 1].\n",
      "  warnings.warn(label_encoder_deprecation_msg, UserWarning)\n"
     ]
    },
    {
     "name": "stdout",
     "output_type": "stream",
     "text": [
      "[03:16:15] WARNING: ..\\src\\learner.cc:576: \n",
      "Parameters: { \"n_estimator\" } might not be used.\n",
      "\n",
      "  This could be a false alarm, with some parameters getting used by language bindings but\n",
      "  then being mistakenly passed down to XGBoost core, or some parameter actually being used\n",
      "  but getting flagged wrongly here. Please open an issue if you find any such cases.\n",
      "\n",
      "\n",
      "[03:16:15] WARNING: ..\\src\\learner.cc:1115: Starting in XGBoost 1.3.0, the default evaluation metric used with the objective 'binary:logistic' was changed from 'error' to 'logloss'. Explicitly set eval_metric if you'd like to restore the old behavior.\n"
     ]
    }
   ],
   "source": [
    "soft_vote2  = VotingClassifier(models2, voting='soft')\n",
    "soft_vote2.fit(X_train_, Y_train_over);"
   ]
  },
  {
   "cell_type": "code",
   "execution_count": 19,
   "id": "1ced63a1",
   "metadata": {},
   "outputs": [
    {
     "name": "stderr",
     "output_type": "stream",
     "text": [
      "C:\\Users\\2469l\\anaconda3\\lib\\site-packages\\xgboost\\sklearn.py:1224: UserWarning: The use of label encoder in XGBClassifier is deprecated and will be removed in a future release. To remove this warning, do the following: 1) Pass option use_label_encoder=False when constructing XGBClassifier object; and 2) Encode your labels (y) as integers starting with 0, i.e. 0, 1, 2, ..., [num_class - 1].\n",
      "  warnings.warn(label_encoder_deprecation_msg, UserWarning)\n"
     ]
    },
    {
     "name": "stdout",
     "output_type": "stream",
     "text": [
      "[03:16:42] WARNING: ..\\src\\learner.cc:576: \n",
      "Parameters: { \"n_estimator\" } might not be used.\n",
      "\n",
      "  This could be a false alarm, with some parameters getting used by language bindings but\n",
      "  then being mistakenly passed down to XGBoost core, or some parameter actually being used\n",
      "  but getting flagged wrongly here. Please open an issue if you find any such cases.\n",
      "\n",
      "\n",
      "[03:16:42] WARNING: ..\\src\\learner.cc:1115: Starting in XGBoost 1.3.0, the default evaluation metric used with the objective 'binary:logistic' was changed from 'error' to 'logloss'. Explicitly set eval_metric if you'd like to restore the old behavior.\n"
     ]
    }
   ],
   "source": [
    "soft_vote3  = VotingClassifier(models3, voting='soft')\n",
    "soft_vote3.fit(X_train_, Y_train_over);"
   ]
  },
  {
   "cell_type": "code",
   "execution_count": 20,
   "id": "70a0e03f",
   "metadata": {},
   "outputs": [
    {
     "name": "stderr",
     "output_type": "stream",
     "text": [
      "C:\\Users\\2469l\\anaconda3\\lib\\site-packages\\sklearn\\svm\\_base.py:284: ConvergenceWarning: Solver terminated early (max_iter=1000).  Consider pre-processing your data with StandardScaler or MinMaxScaler.\n",
      "  warnings.warn(\n",
      "C:\\Users\\2469l\\anaconda3\\lib\\site-packages\\xgboost\\sklearn.py:1224: UserWarning: The use of label encoder in XGBClassifier is deprecated and will be removed in a future release. To remove this warning, do the following: 1) Pass option use_label_encoder=False when constructing XGBClassifier object; and 2) Encode your labels (y) as integers starting with 0, i.e. 0, 1, 2, ..., [num_class - 1].\n",
      "  warnings.warn(label_encoder_deprecation_msg, UserWarning)\n"
     ]
    },
    {
     "name": "stdout",
     "output_type": "stream",
     "text": [
      "[03:17:15] WARNING: ..\\src\\learner.cc:576: \n",
      "Parameters: { \"n_estimator\" } might not be used.\n",
      "\n",
      "  This could be a false alarm, with some parameters getting used by language bindings but\n",
      "  then being mistakenly passed down to XGBoost core, or some parameter actually being used\n",
      "  but getting flagged wrongly here. Please open an issue if you find any such cases.\n",
      "\n",
      "\n",
      "[03:17:15] WARNING: ..\\src\\learner.cc:1115: Starting in XGBoost 1.3.0, the default evaluation metric used with the objective 'binary:logistic' was changed from 'error' to 'logloss'. Explicitly set eval_metric if you'd like to restore the old behavior.\n"
     ]
    },
    {
     "name": "stderr",
     "output_type": "stream",
     "text": [
      "C:\\Users\\2469l\\anaconda3\\lib\\site-packages\\sklearn\\svm\\_base.py:284: ConvergenceWarning: Solver terminated early (max_iter=1000).  Consider pre-processing your data with StandardScaler or MinMaxScaler.\n",
      "  warnings.warn(\n",
      "C:\\Users\\2469l\\anaconda3\\lib\\site-packages\\xgboost\\sklearn.py:1224: UserWarning: The use of label encoder in XGBClassifier is deprecated and will be removed in a future release. To remove this warning, do the following: 1) Pass option use_label_encoder=False when constructing XGBClassifier object; and 2) Encode your labels (y) as integers starting with 0, i.e. 0, 1, 2, ..., [num_class - 1].\n",
      "  warnings.warn(label_encoder_deprecation_msg, UserWarning)\n"
     ]
    },
    {
     "name": "stdout",
     "output_type": "stream",
     "text": [
      "[03:17:47] WARNING: ..\\src\\learner.cc:576: \n",
      "Parameters: { \"n_estimator\" } might not be used.\n",
      "\n",
      "  This could be a false alarm, with some parameters getting used by language bindings but\n",
      "  then being mistakenly passed down to XGBoost core, or some parameter actually being used\n",
      "  but getting flagged wrongly here. Please open an issue if you find any such cases.\n",
      "\n",
      "\n",
      "[03:17:47] WARNING: ..\\src\\learner.cc:1115: Starting in XGBoost 1.3.0, the default evaluation metric used with the objective 'binary:logistic' was changed from 'error' to 'logloss'. Explicitly set eval_metric if you'd like to restore the old behavior.\n"
     ]
    },
    {
     "name": "stderr",
     "output_type": "stream",
     "text": [
      "C:\\Users\\2469l\\anaconda3\\lib\\site-packages\\xgboost\\sklearn.py:1224: UserWarning: The use of label encoder in XGBClassifier is deprecated and will be removed in a future release. To remove this warning, do the following: 1) Pass option use_label_encoder=False when constructing XGBClassifier object; and 2) Encode your labels (y) as integers starting with 0, i.e. 0, 1, 2, ..., [num_class - 1].\n",
      "  warnings.warn(label_encoder_deprecation_msg, UserWarning)\n"
     ]
    },
    {
     "name": "stdout",
     "output_type": "stream",
     "text": [
      "[03:18:15] WARNING: ..\\src\\learner.cc:576: \n",
      "Parameters: { \"n_estimator\" } might not be used.\n",
      "\n",
      "  This could be a false alarm, with some parameters getting used by language bindings but\n",
      "  then being mistakenly passed down to XGBoost core, or some parameter actually being used\n",
      "  but getting flagged wrongly here. Please open an issue if you find any such cases.\n",
      "\n",
      "\n",
      "[03:18:15] WARNING: ..\\src\\learner.cc:1115: Starting in XGBoost 1.3.0, the default evaluation metric used with the objective 'binary:logistic' was changed from 'error' to 'logloss'. Explicitly set eval_metric if you'd like to restore the old behavior.\n"
     ]
    }
   ],
   "source": [
    "models_ = [\n",
    "    ('sv1', soft_vote),\n",
    "    ('sv2', soft_vote2),\n",
    "    ('sv3', soft_vote3)\n",
    "]\n",
    "from sklearn.ensemble import VotingClassifier\n",
    "\n",
    "soft_vote  = VotingClassifier(models_, voting='soft')\n",
    "soft_vote.fit(X_train_, Y_train_over)\n",
    "prediction=soft_vote.predict(X_test2);"
   ]
  }
 ],
 "metadata": {
  "kernelspec": {
   "display_name": "Python 3 (ipykernel)",
   "language": "python",
   "name": "python3"
  },
  "language_info": {
   "codemirror_mode": {
    "name": "ipython",
    "version": 3
   },
   "file_extension": ".py",
   "mimetype": "text/x-python",
   "name": "python",
   "nbconvert_exporter": "python",
   "pygments_lexer": "ipython3",
   "version": "3.9.7"
  }
 },
 "nbformat": 4,
 "nbformat_minor": 5
}
